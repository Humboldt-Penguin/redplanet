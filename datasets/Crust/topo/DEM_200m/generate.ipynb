{
 "cells": [
  {
   "cell_type": "markdown",
   "metadata": {},
   "source": [
    "# [0] Setup"
   ]
  },
  {
   "cell_type": "code",
   "execution_count": 1,
   "metadata": {},
   "outputs": [],
   "source": [
    "from pathlib import Path\n",
    "import zipfile\n",
    "import os\n",
    "\n",
    "import xarray as xr\n",
    "import rioxarray\n",
    "import zarr\n",
    "\n",
    "from redplanet.DatasetManager.hash import (\n",
    "    get_available_algorithms,\n",
    "    _calculate_hash_from_file,\n",
    ")"
   ]
  },
  {
   "cell_type": "markdown",
   "metadata": {},
   "source": [
    "### Inputs\n",
    "\n",
    "Dataset can be downloaded here: https://astrogeology.usgs.gov/search/map/mars_mgs_mola_mex_hrsc_blended_dem_global_200m\n",
    "\n",
    "See README for more info."
   ]
  },
  {
   "cell_type": "code",
   "execution_count": 2,
   "metadata": {},
   "outputs": [],
   "source": [
    "fpath_dem_tif = Path('/home/lain/root/100_work/110_projects/111_mars/raw_data/Mars_HRSC_MOLA_BlendDEM_Global_200mp_v2.tif')\n",
    "\n",
    "assert _calculate_hash_from_file(fpath_dem_tif, 'xxh3_64') == 'dafb191af5826c66'"
   ]
  },
  {
   "cell_type": "markdown",
   "metadata": {},
   "source": [
    "---\n",
    "---\n",
    "# [1] Load/format given TIF data file to `xarray.DataArray`"
   ]
  },
  {
   "cell_type": "code",
   "execution_count": 3,
   "metadata": {},
   "outputs": [],
   "source": [
    "dat_dem_xr = (\n",
    "    rioxarray.open_rasterio(\n",
    "        filename = fpath_dem_tif,\n",
    "        chunks   = {'x': 'auto', 'y': 'auto'},\n",
    "    )\n",
    "    .sel(band=1)\n",
    "    .drop_vars(['band'])\n",
    "    .rename({'x': 'lon', 'y': 'lat'})\n",
    "    .sortby('lat', ascending=True)\n",
    "    .chunk({'lon': 'auto', 'lat': 'auto'})\n",
    "    .rename('Mars_HRSC_MOLA_BlendDEM_Global_200mp_v2')\n",
    ")\n",
    "\n",
    "dat_dem_xr.attrs = {\n",
    "    'units'   : 'meters',\n",
    "    'metadata': {\n",
    "        'source_data': 'https://astrogeology.usgs.gov/search/map/mars_mgs_mola_mex_hrsc_blended_dem_global_200m',\n",
    "        'more_info'  : 'https://github.com/Humboldt-Penguin/redplanet',\n",
    "    },\n",
    "}"
   ]
  },
  {
   "cell_type": "markdown",
   "metadata": {},
   "source": [
    "---\n",
    "### Inspecting dataset properties"
   ]
  },
  {
   "cell_type": "markdown",
   "metadata": {},
   "source": [
    "This this point, `dat_dem_xr` looks like this:\n",
    "\n",
    "![](https://files.catbox.moe/39ymhp.png)\n",
    "\n",
    "And the CRS is:"
   ]
  },
  {
   "cell_type": "code",
   "execution_count": 4,
   "metadata": {},
   "outputs": [],
   "source": [
    "known_crs = {\n",
    "    'GeoTransform'               : '-180.0 0.003374120830641 0.0 90.0 0.0 -0.003374120830641',\n",
    "    'crs_wkt'                    : 'GEOGCS[\"GCS_Mars_2000_Sphere\",DATUM[\"Mars_2000_(Sphere)\",SPHEROID[\"Mars_2000_Sphere_IAU_IAG\",3396190,0]],PRIMEM[\"Reference_Meridian\",0],UNIT[\"degree\",0.0174532925199433,AUTHORITY[\"EPSG\",\"9122\"]],AXIS[\"Latitude\",NORTH],AXIS[\"Longitude\",EAST]]',\n",
    "    'geographic_crs_name'        : 'GCS_Mars_2000_Sphere',\n",
    "    'grid_mapping_name'          : 'latitude_longitude',\n",
    "    'horizontal_datum_name'      : 'Mars_2000_(Sphere)',\n",
    "    'inverse_flattening'         : 0.0,\n",
    "    'longitude_of_prime_meridian': 0.0,\n",
    "    'prime_meridian_name'        : 'Reference_Meridian',\n",
    "    'reference_ellipsoid_name'   : 'Mars_2000_Sphere_IAU_IAG',\n",
    "    'semi_major_axis'            : 3396190.0,\n",
    "    'semi_minor_axis'            : 3396190.0,\n",
    "    'spatial_ref'                : 'GEOGCS[\"GCS_Mars_2000_Sphere\",DATUM[\"Mars_2000_(Sphere)\",SPHEROID[\"Mars_2000_Sphere_IAU_IAG\",3396190,0]],PRIMEM[\"Reference_Meridian\",0],UNIT[\"degree\",0.0174532925199433,AUTHORITY[\"EPSG\",\"9122\"]],AXIS[\"Latitude\",NORTH],AXIS[\"Longitude\",EAST]]'\n",
    "}\n",
    "\n",
    "assert dat_dem_xr.spatial_ref.attrs == known_crs"
   ]
  },
  {
   "cell_type": "markdown",
   "metadata": {},
   "source": [
    "---\n",
    "---\n",
    "# [2] Save to `zarr.ZipStore`"
   ]
  },
  {
   "cell_type": "markdown",
   "metadata": {},
   "source": [
    "Note: Instead of directly saving dataset as a `zarr.ZipStore`, we:\n",
    "\n",
    "- Save as `zarr.DirectoryStore`,\n",
    "- Set all files to have a fixed/consistent timestamp,\n",
    "- Zip it.\n",
    "\n",
    "This is functionally equivalent to saving a `zarr.ZipStore`, but standardizing the modtimes ensures the final file always has a consistent hash."
   ]
  },
  {
   "cell_type": "code",
   "execution_count": 5,
   "metadata": {},
   "outputs": [],
   "source": [
    "dirpath_out = Path.cwd() / 'output'\n",
    "dirpath_out.mkdir(exist_ok=True)\n",
    "\n",
    "\n",
    "## Save as `zarr.DirectoryStore`\n",
    "fname_dem = 'Mars_HRSC_MOLA_BlendDEM_Global_200mp_v2'\n",
    "dirpath_dem_zarr = dirpath_out / f'{fname_dem}.zarr'\n",
    "with zarr.DirectoryStore(dirpath_dem_zarr) as dirstore:\n",
    "    dat_dem_xr.to_zarr(store=dirstore)\n",
    "\n",
    "\n",
    "## Normalize modtimes and save as `zarr.ZipStore` (deleting as we go)\n",
    "fpath_dem_zarrzip = dirpath_out / f'{fname_dem}.zarr.zip'\n",
    "\n",
    "with zipfile.ZipFile(fpath_dem_zarrzip, \"w\", compression=zipfile.ZIP_STORED, strict_timestamps=False) as zipf:\n",
    "    for dirpath_parent, dirnames, fnames in dirpath_dem_zarr.walk(top_down=False):\n",
    "\n",
    "        for fname in fnames:\n",
    "            fpath = dirpath_parent / fname\n",
    "            os.utime(fpath, times=(0,0))\n",
    "            zipf.write(fpath, arcname = fpath.relative_to(dirpath_dem_zarr))\n",
    "            fpath.unlink()\n",
    "\n",
    "        for dirname in dirnames:\n",
    "            (dirpath_parent / dirname).rmdir()\n",
    "\n",
    "dirpath_dem_zarr.rmdir()"
   ]
  },
  {
   "cell_type": "markdown",
   "metadata": {},
   "source": [
    "---\n",
    "### Final hashes\n",
    "\n",
    "Mars_HRSC_MOLA_BlendDEM_Global_200mp_v2.zarr.zip\n",
    "- xxh3_64: 591d09f97c971546\n",
    "- md5: 63b8913ffedc12438bda2e9817470dee\n",
    "- sha256: 7bf515611a2fd8562f4daba0fd7bedb3c57b55a8d4f4975c9ca6351de4c2b16f"
   ]
  },
  {
   "cell_type": "code",
   "execution_count": 6,
   "metadata": {},
   "outputs": [],
   "source": [
    "# print(f'{fpath_dem_zarrzip.name}')\n",
    "# for alg in get_available_algorithms():\n",
    "#     print(f'- {alg}: {_calculate_hash_from_file(fpath_dem_zarrzip, alg)}')"
   ]
  },
  {
   "cell_type": "code",
   "execution_count": 9,
   "metadata": {},
   "outputs": [],
   "source": [
    "assert _calculate_hash_from_file(fpath_dem_zarrzip, 'xxh3_64') == '591d09f97c971546'"
   ]
  }
 ],
 "metadata": {
  "kernelspec": {
   "display_name": ".venv",
   "language": "python",
   "name": "python3"
  },
  "language_info": {
   "codemirror_mode": {
    "name": "ipython",
    "version": 3
   },
   "file_extension": ".py",
   "mimetype": "text/x-python",
   "name": "python",
   "nbconvert_exporter": "python",
   "pygments_lexer": "ipython3",
   "version": "3.12.5"
  }
 },
 "nbformat": 4,
 "nbformat_minor": 2
}
